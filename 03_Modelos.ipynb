{
  "cells": [
    {
      "cell_type": "code",
      "execution_count": 1,
      "metadata": {},
      "outputs": [],
      "source": [
        "import warnings\n",
        "import logging\n",
        "\n",
        "warnings.filterwarnings(\"ignore\")\n",
        "logging.basicConfig(level=logging.CRITICAL)"
      ]
    },
    {
      "cell_type": "code",
      "execution_count": 2,
      "metadata": {
        "id": "MEyrMN2BOWpx"
      },
      "outputs": [],
      "source": [
        "import pandas as pd\n",
        "import numpy as np\n",
        "\n",
        "import matplotlib.pyplot as plt\n",
        "import seaborn as sns\n",
        "\n",
        "from sklearn.model_selection import TimeSeriesSplit, cross_validate\n",
        "from sklearn.preprocessing import MinMaxScaler\n",
        "from sklearn.linear_model import LinearRegression, Lasso\n",
        "from sklearn.ensemble import RandomForestRegressor\n",
        "from sklearn.metrics import mean_squared_error, mean_absolute_percentage_error\n",
        "from sklearn.dummy import DummyRegressor\n",
        "from sklearn.base import BaseEstimator, RegressorMixin\n",
        "from xgboost import XGBRegressor\n",
        "from catboost import CatBoostRegressor\n",
        "from prophet import Prophet\n",
        "from statsmodels.tsa.statespace.sarimax import SARIMAX\n",
        "from statsmodels.tools.sm_exceptions import ConvergenceWarning\n",
        "import tensorflow as tf\n",
        "import torch\n",
        "from tensorflow.keras.models import Sequential\n",
        "from tensorflow.keras.layers import LSTM, Dense\n",
        "from chronos import ChronosPipeline\n",
        "\n",
        "import yaml\n",
        "from abc import ABC, abstractmethod\n",
        "from tqdm import tqdm\n",
        "import optuna\n",
        "import cmdstanpy"
      ]
    },
    {
      "cell_type": "code",
      "execution_count": 5,
      "metadata": {},
      "outputs": [],
      "source": [
        "warnings.filterwarnings(\"ignore\", category=ConvergenceWarning, module='statsmodels')\n",
        "warnings.filterwarnings('ignore', category=FutureWarning, module='tensorflow')\n",
        "warnings.filterwarnings(\"ignore\", category=ConvergenceWarning, module='statsmodels')\n",
        "\n",
        "logging.getLogger('cmdstanpy').setLevel(logging.ERROR)\n",
        "optuna.logging.set_verbosity(optuna.logging.WARNING)"
      ]
    },
    {
      "cell_type": "code",
      "execution_count": 6,
      "metadata": {
        "id": "qZOgHzsDOceC"
      },
      "outputs": [],
      "source": [
        "data_path = \"data/combined_data.csv\"\n",
        "\n",
        "data = pd.read_csv(data_path)\n",
        "data['Dia'] = pd.to_datetime(data['Dia'])\n",
        "data.sort_values(['Nombre', 'Producto', 'Dia'], inplace=True)"
      ]
    },
    {
      "cell_type": "markdown",
      "metadata": {},
      "source": [
        "## Clase abstracta"
      ]
    },
    {
      "cell_type": "code",
      "execution_count": 7,
      "metadata": {},
      "outputs": [],
      "source": [
        "base_cols = ['PVP']\n",
        "meteo_cols = ['dir', 'prec', 'presMax', 'presMin', 'racha', 'sol', 'tmax', 'tmed', 'tmin', 'velmedia']\n",
        "ts_cols = ['t_diff_1', 't_diff_2', 't_diff_3', 't_diff_4', 't_diff_5', 't_diff_6', 't_diff_7', 't_diff_30', 't_diff_365']\n",
        "price_cols = ['count_comp', 'mean_comp', 'min_comp', 'max_comp']\n",
        "traffic_cols = ['month_traffic_mean', 'weekly_traffic_mean']\n",
        "population_cols = ['population_00-19', 'population_20-29', 'population_30-49', 'population_50-64', 'population_65-99', 'population_total']\n",
        "vehicle_cols = ['n_veh_car', 'n_veh_motorcycle', 'n_veh_other', 'n_veh_truck']\n",
        "cat_cols = [\"Producto\"]\n",
        "\n",
        "exogenous_vars = base_cols + ts_cols + meteo_cols + price_cols + traffic_cols\n",
        "general_ex_vars = base_cols + ts_cols + meteo_cols + price_cols + traffic_cols + population_cols + vehicle_cols + cat_cols\n",
        "\n",
        "n_splits = 12\n",
        "test_size = 30\n",
        "\n",
        "CONFIG_DEFAULT = {\n",
        "    \"exogenous_vars\": exogenous_vars, \n",
        "    \"general_ex_vars\": general_ex_vars,\n",
        "    \"cv_params\": {\n",
        "        \"n_splits\": n_splits, \n",
        "        \"test_size\": test_size,\n",
        "    },\n",
        "}"
      ]
    },
    {
      "cell_type": "code",
      "execution_count": 8,
      "metadata": {},
      "outputs": [],
      "source": [
        "class Scorer(ABC):\n",
        "    \n",
        "    def __init__(self, config=CONFIG_DEFAULT, **model_params):\n",
        "        self.exogenous_vars = config[\"exogenous_vars\"]\n",
        "        self.features_length = len(self.exogenous_vars)\n",
        "        self.cv_params = config[\"cv_params\"]\n",
        "        self.model_params = model_params\n",
        "\n",
        "    @abstractmethod\n",
        "    def create_model(self):\n",
        "        pass\n",
        "    \n",
        "    def process_data(self, df, scale=True):\n",
        "        for i in range(1, 8):\n",
        "            df[f't_diff_{i}'] = df['VentasN'].diff(periods=i)\n",
        "        df['t_diff_30'] = df['VentasN'].diff(periods=30)\n",
        "        df['t_diff_365'] = df['VentasN'].diff(periods=365)\n",
        "        df = df.dropna(axis=1, how=\"all\")\n",
        "        df = df.fillna(method='ffill')\n",
        "        df = df.dropna()\n",
        "\n",
        "        self.time_series = df[\"Dia\"].values\n",
        "        \n",
        "        if scale:\n",
        "            scaler = MinMaxScaler()\n",
        "            X = scaler.fit_transform(df[self.exogenous_vars])\n",
        "        else:\n",
        "            X = df[self.exogenous_vars].values\n",
        "        y = df['VentasN'].values\n",
        "\n",
        "        X, y = self.arrage_data(X, y)\n",
        "        return X, y\n",
        "\n",
        "    def arrage_data(self, X, y):\n",
        "        return X, y\n",
        "\n",
        "    def cross_validate_model(self, model, X, y):\n",
        "        cv = TimeSeriesSplit(**self.cv_params)\n",
        "        scores = cross_validate(model, X, y, scoring=['neg_root_mean_squared_error', 'neg_mean_absolute_percentage_error'], cv=cv)\n",
        "        rmse_list = -scores['test_neg_root_mean_squared_error']\n",
        "        mape_list = -scores['test_neg_mean_absolute_percentage_error']\n",
        "        return rmse_list, mape_list\n",
        "\n",
        "    def run(self, data, verbose=True, get_models=False, show_progress=True):\n",
        "        results = []\n",
        "        models = []\n",
        "        total = len(data['Nombre'].unique()) * len(data['Producto'].unique())\n",
        "        months = [\"Feb\", \"Mar\", \"Apr\", \"May\", \"Jun\", \"Jul\", \"Aug\", \"Sep\", \"Oct\", \"Nov\", \"Dec\", \"Jan\"]\n",
        "        \n",
        "        progress_bar = tqdm(total=total, desc=\"Running\") if show_progress else None\n",
        "\n",
        "        for estacion in data['Nombre'].unique():\n",
        "            for producto in data[data['Nombre'] == estacion]['Producto'].unique():\n",
        "                df = data[(data['Nombre'] == estacion) & (data['Producto'] == producto)].copy()\n",
        "                X, y = self.process_data(df)\n",
        "                model = self.create_model()\n",
        "                rmse_list, mape_list = self.cross_validate_model(model, X, y)\n",
        "\n",
        "                estacion_results = [\n",
        "                    {\n",
        "                        'Model': self.model_name,\n",
        "                        'Estación': estacion, \n",
        "                        'Producto': producto,\n",
        "                        'Month': months[i], \n",
        "                        'RMSE': rmse_list[i], \n",
        "                        'MAPE': mape_list[i],\n",
        "                    }\n",
        "                    for i in range(len(rmse_list))\n",
        "                ]\n",
        "\n",
        "                results = results + estacion_results\n",
        "                if get_models:\n",
        "                    model = self.create_model()\n",
        "                    model.fit(X, y)\n",
        "                    models.append(model)\n",
        "                \n",
        "                if show_progress:\n",
        "                    progress_bar.update(1)\n",
        "        \n",
        "        if show_progress:\n",
        "            progress_bar.close()\n",
        "        \n",
        "        results_df = pd.DataFrame(results)\n",
        "\n",
        "        if verbose:\n",
        "            print(f\"Mean RMSE: {round(results_df['RMSE'].mean(), 4)}\")\n",
        "            print(f\"Median MAPE: {round(results_df['MAPE'].median() * 100, 2)}%\")\n",
        "\n",
        "        return results_df, models\n"
      ]
    },
    {
      "cell_type": "code",
      "execution_count": 9,
      "metadata": {},
      "outputs": [],
      "source": [
        "class LSTMModel(BaseEstimator, RegressorMixin):\n",
        "    def __init__(self, lstm_layers=[8, 8], dense_layers=[8, 4], epochs=2, batch_size=32, sequence_length=5):\n",
        "        self.lstm_layers = lstm_layers\n",
        "        self.dense_layers = dense_layers\n",
        "        self.epochs = epochs\n",
        "        self.batch_size = batch_size\n",
        "        self.sequence_length = sequence_length\n",
        "        \n",
        "    def build_model(self, lstm_layers, dense_layers, input_shape):\n",
        "        model = Sequential()\n",
        "        for i, units in enumerate(lstm_layers):\n",
        "            if i == 0:\n",
        "                model.add(LSTM(units, return_sequences=(i < len(lstm_layers) - 1), input_shape=input_shape))\n",
        "            else:\n",
        "                model.add(LSTM(units, return_sequences=(i < len(lstm_layers) - 1)))\n",
        "        for units in dense_layers:\n",
        "            model.add(Dense(units, activation='relu'))\n",
        "        model.add(Dense(1))\n",
        "        model.compile(optimizer='adam', loss='mean_squared_error')\n",
        "        return model\n",
        "\n",
        "    def fit(self, X, y):\n",
        "        self.lstm_model = self.build_model(self.lstm_layers, self.dense_layers, X.shape[1:])\n",
        "        self.lstm_model.fit(X, y, epochs=self.epochs, batch_size=self.batch_size, verbose=False)\n",
        "\n",
        "    def predict(self, X):\n",
        "        return self.lstm_model.predict(X, verbose=False).flatten()\n",
        "\n",
        "    def get_params(self, deep=True):\n",
        "        return {\n",
        "            \"lstm_layers\": self.lstm_layers,\n",
        "            \"dense_layers\": self.dense_layers,\n",
        "            \"epochs\": self.epochs,\n",
        "            \"batch_size\": self.batch_size,\n",
        "            \"sequence_length\": self.sequence_length,\n",
        "        }\n",
        "\n",
        "    def set_params(self, **params):\n",
        "        for param, value in params.items():\n",
        "            setattr(self, param, value)\n",
        "        return self\n",
        "\n",
        "class SARIMAXModel(BaseEstimator, RegressorMixin):\n",
        "    def __init__(self, order, seasonal_order=(0, 0, 0, 0)):\n",
        "        self.order = order\n",
        "        self.seasonal_order = seasonal_order\n",
        "\n",
        "    def fit(self, X, y):\n",
        "        self.sarimax_model = SARIMAX(y, exog=X, order=self.order, seasonal_order=self.seasonal_order)\n",
        "        self.sarimax_model = self.sarimax_model.fit(method=\"lbfgs\", maxiter=50)\n",
        "\n",
        "    def predict(self, X):\n",
        "        return self.sarimax_model.forecast(steps=len(X), exog=X)\n",
        "\n",
        "    def get_params(self, deep=True):\n",
        "        return {\"order\": self.order, \"seasonal_order\": self.seasonal_order}\n",
        "\n",
        "    def set_params(self, **params):\n",
        "        for param, value in params.items():\n",
        "            setattr(self, param, value)\n",
        "        return self\n",
        "\n",
        "class ProphetModel(BaseEstimator, RegressorMixin):\n",
        "    def __init__(self, time_series, **model_params):\n",
        "        self.time_series = time_series\n",
        "        self.model_params = model_params\n",
        "        self.prophet_model = Prophet(**self.model_params)\n",
        "    \n",
        "    def fit(self, X, y):\n",
        "        df = pd.DataFrame(X).copy()\n",
        "        df['y'] = y\n",
        "        df['ds'] = self.time_series[:len(df)]\n",
        "        self.prophet_model.fit(df)\n",
        "    \n",
        "    def predict(self, X):\n",
        "        future = self.prophet_model.make_future_dataframe(periods=len(X))\n",
        "        forecast = self.prophet_model.predict(future)\n",
        "        y_pred = forecast['yhat'][-len(X):].values\n",
        "        \n",
        "        return y_pred\n",
        "    \n",
        "    def get_params(self, deep=True):\n",
        "        return {\"time_series\": self.time_series, **self.model_params}\n",
        "\n",
        "    def set_params(self, time_series, **params):\n",
        "        self.time_series = time_series\n",
        "        self.model_params = params\n",
        "        return self\n",
        "\n",
        "\n",
        "class ChronosBaseModel(BaseEstimator, RegressorMixin):\n",
        "    def __init__(self, chronos_pipeline):\n",
        "        self.chronos_pipeline = chronos_pipeline\n",
        "    \n",
        "    def fit(self, X, y):\n",
        "        self.context = torch.tensor(y)\n",
        "        return self\n",
        "    \n",
        "    def predict(self, X):\n",
        "        \n",
        "        y_pred = self.chronos_pipeline.predict(\n",
        "            context=self.context,\n",
        "            prediction_length=X.shape[0],\n",
        "            num_samples=1,\n",
        "        )\n",
        "        \n",
        "        return np.array(y_pred.squeeze())\n",
        "    \n",
        "    def get_params(self, deep=True):\n",
        "        return {\"chronos_pipeline\": self.chronos_pipeline}\n",
        "\n",
        "    def set_params(self, chronos_pipeline):\n",
        "        self.chronos_pipeline = chronos_pipeline\n",
        "        return self\n",
        "    \n",
        "class ChronosModel(BaseEstimator, RegressorMixin):\n",
        "    def __init__(self, chronos_pipeline, t_col, base_model):\n",
        "        self.chronos_pipeline = chronos_pipeline\n",
        "        self.t_col = t_col\n",
        "        self.base_model = base_model\n",
        "\n",
        "    def _embed(self, X):\n",
        "        self.chronos_pipeline.tokenizer.config.context_length = len(X)\n",
        "        y_context = torch.tensor(X[:, self.t_col])\n",
        "        y_embeddings, _ = self.chronos_pipeline.embed(y_context)\n",
        "        y_embeddings = y_embeddings[0][:-1].to(torch.float32).numpy()\n",
        "        X_embedding = np.concatenate((X, y_embeddings), axis=1)\n",
        "        return X_embedding\n",
        "    \n",
        "    def fit(self, X, y):\n",
        "        self.context = X.copy()\n",
        "        X_embedding = self._embed(self.context)\n",
        "        self.base_model = self.base_model.fit(X_embedding, y)\n",
        "        return self\n",
        "    \n",
        "    def predict(self, X):\n",
        "        X_context = np.concatenate((self.context, X), axis=0) \n",
        "        X_embedding = self._embed(X_context)        \n",
        "        y_pred = self.base_model.predict(X_embedding[-len(X):])\n",
        "        return y_pred\n",
        "    \n",
        "    def get_params(self, deep=True):\n",
        "        return {\n",
        "            \"chronos_pipeline\": self.chronos_pipeline,\n",
        "            \"t_col\": self.t_col,\n",
        "            \"base_model\": self.base_model,\n",
        "        }\n",
        "\n",
        "    def set_params(self, chronos_pipeline, t_col, base_model):\n",
        "        self.chronos_pipeline = chronos_pipeline\n",
        "        self.t_col = t_col\n",
        "        self.base_model = base_model\n",
        "        return self"
      ]
    },
    {
      "cell_type": "code",
      "execution_count": 10,
      "metadata": {},
      "outputs": [],
      "source": [
        "class LinearRegressionScorer(Scorer):\n",
        "    def create_model(self):\n",
        "        self.model_name = \"linear_regression\"\n",
        "        return LinearRegression(**self.model_params)\n",
        "\n",
        "class LassoScorer(Scorer):\n",
        "    def create_model(self):\n",
        "        self.model_name = \"lasso\"\n",
        "        return Lasso(**self.model_params)\n",
        "\n",
        "class XGBoostScorer(Scorer):\n",
        "    def create_model(self):\n",
        "        self.model_name = \"xgboost\"\n",
        "        return XGBRegressor(**self.model_params)\n",
        "\n",
        "class CatBoostScorer(Scorer):\n",
        "    def create_model(self):\n",
        "        self.model_name = \"catboost\"\n",
        "        return CatBoostRegressor(**self.model_params, verbose=False)\n",
        "    \n",
        "class RandomForestScorer(Scorer):\n",
        "    def create_model(self):\n",
        "        self.model_name = \"random_forest\"\n",
        "        return RandomForestRegressor(**self.model_params)\n",
        "\n",
        "class ProphetScorer(Scorer):\n",
        "    def create_model(self):\n",
        "        self.model_name = \"prophet\"\n",
        "        return ProphetModel(self.time_series, **self.model_params)\n",
        "    \n",
        "class ChronosBaseScorer(Scorer):\n",
        "    def create_model(self):\n",
        "        self.model_name = \"chronos_base\"\n",
        "        return ChronosBaseModel(**self.model_params)\n",
        "\n",
        "class ChronosScorer(Scorer):\n",
        "    def create_model(self):\n",
        "        self.model_name = \"chronos\"\n",
        "        return ChronosModel(**self.model_params)\n",
        "\n",
        "class DummyMeanScorer(Scorer):\n",
        "    def create_model(self):\n",
        "        self.model_name = \"dummy_mean\"\n",
        "        return DummyRegressor(strategy=\"mean\")\n",
        "\n",
        "class DummyShiftScorer(Scorer):\n",
        "\n",
        "    def create_model(self):\n",
        "        self.model_name = f'dummy_shift_{self.model_params[\"shift\"]}'\n",
        "    \n",
        "    def cross_validate_model(self, model, X, y):\n",
        "        shift_value = self.model_params[\"shift\"]\n",
        "\n",
        "        y_pred = np.roll(y, shift_value)\n",
        "        y_pred[:shift_value] = y[:shift_value]\n",
        "\n",
        "        rmse = mean_squared_error(y, y_pred, squared=False)\n",
        "        mape = mean_absolute_percentage_error(y, y_pred)\n",
        "\n",
        "        return [rmse], [mape]\n",
        "\n",
        "class LSTMScorer(Scorer):\n",
        "    def arrage_data(self, X, y):\n",
        "        sequence_length = 5\n",
        "\n",
        "        X_seq, y_seq = [], []\n",
        "        for i in range(len(X) - sequence_length + 1):\n",
        "            X_seq.append(X[i:i + sequence_length])\n",
        "            y_seq.append(y[i + sequence_length - 1])\n",
        "        return np.stack(X_seq), np.stack(y_seq)\n",
        "    \n",
        "    def create_model(self):\n",
        "        self.model_name = \"lstm\"\n",
        "        return LSTMModel(**self.model_params)\n",
        "\n",
        "class SARIMAXScorer(Scorer):\n",
        "    def create_model(self):\n",
        "        self.model_name = \"sarimax\"\n",
        "        return SARIMAXModel(**self.model_params)\n",
        "\n",
        "    def process_data(self, df):\n",
        "        ts_cols = [f't_diff_{i}' for i in range(1, 8)] + [\"t_diff_30\", \"t_diff_365\"]\n",
        "        selected_vars = [col for col in self.exogenous_vars if col not in ts_cols]\n",
        "\n",
        "        df = df.dropna(axis=1, how=\"all\")\n",
        "        df = df.fillna(method='ffill')\n",
        "        df = df.dropna()\n",
        "        \n",
        "        scaler = MinMaxScaler()\n",
        "        X = scaler.fit_transform(df[selected_vars])\n",
        "        y = df['VentasN'].values\n",
        "\n",
        "        X, y = self.arrage_data(X, y)\n",
        "        return X, y"
      ]
    },
    {
      "cell_type": "markdown",
      "metadata": {},
      "source": [
        "## Resultados de los modelos"
      ]
    },
    {
      "cell_type": "code",
      "execution_count": 13,
      "metadata": {},
      "outputs": [],
      "source": [
        "total_results = pd.read_csv(\"data/models_results.csv\")"
      ]
    },
    {
      "cell_type": "code",
      "execution_count": 14,
      "metadata": {},
      "outputs": [
        {
          "name": "stderr",
          "output_type": "stream",
          "text": [
            "Running: 100%|██████████| 24/24 [17:31<00:00, 43.83s/it]"
          ]
        },
        {
          "name": "stdout",
          "output_type": "stream",
          "text": [
            "Mean RMSE: 0.0461\n",
            "Median MAPE: 11.35%\n"
          ]
        },
        {
          "name": "stderr",
          "output_type": "stream",
          "text": [
            "\n"
          ]
        }
      ],
      "source": [
        "chronos_pipeline = ChronosPipeline.from_pretrained(\n",
        "    \"amazon/chronos-t5-tiny\",\n",
        "    device_map=\"cpu\",\n",
        "    torch_dtype=torch.bfloat16,\n",
        ")\n",
        "\n",
        "chronos_base_scorer = ChronosScorer(\n",
        "    chronos_pipeline=chronos_pipeline, \n",
        "    t_col=CONFIG_DEFAULT[\"exogenous_vars\"].index(\"t_diff_1\"), \n",
        "    base_model=LinearRegression(), \n",
        ")\n",
        "\n",
        "results_chronos, chronos_base_models = chronos_base_scorer.run(data)\n",
        "total_results = pd.concat([total_results, results_chronos])\n",
        "\n",
        "# Mean RMSE: 0.0461\n",
        "# Median MAPE: 11.35%"
      ]
    },
    {
      "cell_type": "code",
      "execution_count": 15,
      "metadata": {},
      "outputs": [
        {
          "name": "stderr",
          "output_type": "stream",
          "text": [
            "Running: 100%|██████████| 24/24 [8:24:45<00:00, 1261.91s/it]   "
          ]
        },
        {
          "name": "stdout",
          "output_type": "stream",
          "text": [
            "Mean RMSE: 0.0883\n",
            "Median MAPE: 20.05%\n"
          ]
        },
        {
          "name": "stderr",
          "output_type": "stream",
          "text": [
            "\n"
          ]
        }
      ],
      "source": [
        "chronos_pipeline = ChronosPipeline.from_pretrained(\n",
        "    \"amazon/chronos-t5-tiny\",\n",
        "    device_map=\"cpu\",\n",
        "    torch_dtype=torch.bfloat16,\n",
        ")\n",
        "\n",
        "chronos_base_scorer = ChronosBaseScorer(chronos_pipeline=chronos_pipeline)\n",
        "results_chronos_base, chronos_base_models = chronos_base_scorer.run(data)\n",
        "total_results = pd.concat([total_results, results_chronos_base])\n",
        "\n",
        "# Mean RMSE: 0.0883\n",
        "# Median MAPE: 20.05%\n"
      ]
    },
    {
      "cell_type": "code",
      "execution_count": 12,
      "metadata": {},
      "outputs": [
        {
          "name": "stderr",
          "output_type": "stream",
          "text": [
            "Running: 100%|██████████| 24/24 [00:00<00:00, 46.29it/s]"
          ]
        },
        {
          "name": "stdout",
          "output_type": "stream",
          "text": [
            "Mean RMSE: 0.0356\n",
            "Median MAPE: 8.5%\n"
          ]
        },
        {
          "name": "stderr",
          "output_type": "stream",
          "text": [
            "\n"
          ]
        }
      ],
      "source": [
        "lasso_scorer = LassoScorer(alpha=0.001)\n",
        "results_lasso, lasso_models = lasso_scorer.run(data, get_models=True)\n",
        "total_results = pd.concat([total_results, results_lasso])\n",
        "\n",
        "# Mean RMSE: 0.0356\n",
        "# Median MAPE: 8.5%"
      ]
    },
    {
      "cell_type": "code",
      "execution_count": null,
      "metadata": {},
      "outputs": [],
      "source": [
        "prophet_scorer = ProphetScorer()\n",
        "results_prophet, prophet_models = prophet_scorer.run(data)\n",
        "total_results = pd.concat([total_results, results_prophet])\n",
        "\n",
        "# Mean RMSE: 0.0768\n",
        "# Median MAPE: 17.69%"
      ]
    },
    {
      "cell_type": "code",
      "execution_count": 14,
      "metadata": {},
      "outputs": [
        {
          "name": "stderr",
          "output_type": "stream",
          "text": [
            "Running: 100%|██████████| 24/24 [27:21<00:00, 68.39s/it]"
          ]
        },
        {
          "name": "stdout",
          "output_type": "stream",
          "text": [
            "Mean RMSE: 0.074\n",
            "Median MAPE: 16.65%\n"
          ]
        },
        {
          "name": "stderr",
          "output_type": "stream",
          "text": [
            "\n"
          ]
        }
      ],
      "source": [
        "sarimax_scorer = SARIMAXScorer(order=(1, 1, 1), seasonal_order=(1, 1, 1, 7))\n",
        "results_sarimax, models = sarimax_scorer.run(data)\n",
        "total_results = pd.concat([total_results, results_sarimax])\n",
        "\n",
        "# Mean RMSE: 0.074\n",
        "# Median MAPE: 16.65%"
      ]
    },
    {
      "cell_type": "code",
      "execution_count": 21,
      "metadata": {},
      "outputs": [
        {
          "name": "stderr",
          "output_type": "stream",
          "text": [
            "Running: 100%|██████████| 24/24 [02:17<00:00,  5.73s/it]"
          ]
        },
        {
          "name": "stdout",
          "output_type": "stream",
          "text": [
            "Mean RMSE: 0.0374\n",
            "Median MAPE: 8.89%\n"
          ]
        },
        {
          "name": "stderr",
          "output_type": "stream",
          "text": [
            "\n"
          ]
        }
      ],
      "source": [
        "rf_scorer = RandomForestScorer(max_depth=5, n_estimators=100)\n",
        "results_rf, models = rf_scorer.run(data)\n",
        "total_results = pd.concat([total_results, results_rf])\n",
        "\n",
        "# Mean RMSE: 0.0374\n",
        "# Median MAPE: 8.89%"
      ]
    },
    {
      "cell_type": "code",
      "execution_count": null,
      "metadata": {},
      "outputs": [],
      "source": [
        "lstm_scorer = LSTMScorer(lstm_layers=[64, 32], dense_layers=[32, 16], epochs=25, batch_size=32, sequence_length=10)\n",
        "results_lstm, models = lstm_scorer.run(data)\n",
        "total_results = pd.concat([total_results, results_lstm])\n",
        "\n",
        "# Mean RMSE: 0.0365\n",
        "# Median MAPE: 8.54%"
      ]
    },
    {
      "cell_type": "code",
      "execution_count": 23,
      "metadata": {},
      "outputs": [
        {
          "name": "stderr",
          "output_type": "stream",
          "text": [
            "Running: 100%|██████████| 24/24 [00:00<00:00, 73.09it/s]"
          ]
        },
        {
          "name": "stdout",
          "output_type": "stream",
          "text": [
            "Mean RMSE: 0.0925\n",
            "Median MAPE: 22.87%\n"
          ]
        },
        {
          "name": "stderr",
          "output_type": "stream",
          "text": [
            "\n"
          ]
        }
      ],
      "source": [
        "dummy_mean_model = DummyMeanScorer()\n",
        "results_dummy, models = dummy_mean_model.run(data)\n",
        "total_results = pd.concat([total_results, results_dummy])\n",
        "\n",
        "# Mean RMSE: 0.0925\n",
        "# Median MAPE: 22.87%"
      ]
    },
    {
      "cell_type": "code",
      "execution_count": 18,
      "metadata": {},
      "outputs": [
        {
          "name": "stderr",
          "output_type": "stream",
          "text": [
            "Running: 100%|██████████| 24/24 [00:00<00:00, 63.10it/s]"
          ]
        },
        {
          "name": "stdout",
          "output_type": "stream",
          "text": [
            "Mean RMSE: 0.1226\n",
            "Median MAPE: 47.0%\n"
          ]
        },
        {
          "name": "stderr",
          "output_type": "stream",
          "text": [
            "\n"
          ]
        }
      ],
      "source": [
        "dummy_shift_model = DummyShiftScorer(shift=1)\n",
        "results_df, models = dummy_shift_model.run(data)\n",
        "\n",
        "# Mean RMSE: 0.1226\n",
        "# Median MAPE: 47.0%"
      ]
    },
    {
      "cell_type": "code",
      "execution_count": 19,
      "metadata": {},
      "outputs": [
        {
          "name": "stderr",
          "output_type": "stream",
          "text": [
            "Running: 100%|██████████| 24/24 [00:00<00:00, 58.57it/s]\n"
          ]
        },
        {
          "name": "stdout",
          "output_type": "stream",
          "text": [
            "Mean RMSE: 0.099\n",
            "Median MAPE: 34.96%\n"
          ]
        }
      ],
      "source": [
        "dummy_shift_model = DummyShiftScorer(shift=7)\n",
        "results_df, models = dummy_shift_model.run(data)\n",
        "\n",
        "# Mean RMSE: 0.099\n",
        "# Median MAPE: 34.96%"
      ]
    },
    {
      "cell_type": "code",
      "execution_count": 170,
      "metadata": {},
      "outputs": [
        {
          "name": "stderr",
          "output_type": "stream",
          "text": [
            "Running: 100%|██████████| 24/24 [02:08<00:00,  5.37s/it]"
          ]
        },
        {
          "name": "stdout",
          "output_type": "stream",
          "text": [
            "Mean RMSE: 0.0319\n",
            "Median MAPE: 7.56%\n"
          ]
        },
        {
          "name": "stderr",
          "output_type": "stream",
          "text": [
            "\n"
          ]
        }
      ],
      "source": [
        "xgb_model  = XGBoostScorer(n_estimators=500, max_depth=5, learning_rate=0.05, random_state=0)\n",
        "results_xgb, xgb_models = xgb_model.run(data, get_models=True)\n",
        "total_results = pd.concat([total_results, results_xgb])\n",
        "\n",
        "# Mean RMSE: 0.0319\n",
        "# Median MAPE: 7.56%"
      ]
    },
    {
      "cell_type": "code",
      "execution_count": 171,
      "metadata": {},
      "outputs": [
        {
          "name": "stderr",
          "output_type": "stream",
          "text": [
            "Running: 100%|██████████| 24/24 [14:05<00:00, 35.25s/it]  "
          ]
        },
        {
          "name": "stdout",
          "output_type": "stream",
          "text": [
            "Mean RMSE: 0.0305\n",
            "Median MAPE: 7.51%\n"
          ]
        },
        {
          "name": "stderr",
          "output_type": "stream",
          "text": [
            "\n"
          ]
        }
      ],
      "source": [
        "catb_model = CatBoostScorer(iterations=500, learning_rate=0.05, depth=5)\n",
        "results_catb, catb_models = catb_model.run(data, get_models=True)\n",
        "total_results = pd.concat([total_results, results_catb])\n",
        "\n",
        "# Mean RMSE: 0.0305\n",
        "# Median MAPE: 7.51%"
      ]
    },
    {
      "cell_type": "code",
      "execution_count": 30,
      "metadata": {},
      "outputs": [],
      "source": [
        "total_results.to_csv(\"data/models_results.csv\", index=False)"
      ]
    },
    {
      "cell_type": "markdown",
      "metadata": {},
      "source": [
        "## Modelo general"
      ]
    },
    {
      "cell_type": "code",
      "execution_count": 45,
      "metadata": {},
      "outputs": [],
      "source": [
        "class GeneralModelScorer(Scorer):\n",
        "\n",
        "    def __init__(self, base_model, config=CONFIG_DEFAULT):\n",
        "        self.exogenous_vars = config[\"general_ex_vars\"]\n",
        "        self.features_length = len(self.exogenous_vars)\n",
        "        self.cv_params = config[\"cv_params\"].copy()\n",
        "        self.cv_params[\"test_size\"] = self.cv_params[\"test_size\"] * 24\n",
        "        self.base_model = base_model\n",
        "    \n",
        "    def create_model(self):\n",
        "        return self.base_model\n",
        "\n",
        "    def run(self, data, verbose=True, only_scores=False, show_progress=True):\n",
        "        existing_data = False\n",
        "\n",
        "        for estacion in data['Nombre'].unique():\n",
        "            for producto in data[data['Nombre'] == estacion]['Producto'].unique():\n",
        "                \n",
        "                df = data[(data['Nombre'] == estacion) & (data['Producto'] == producto)].copy()\n",
        "                df[\"Producto\"] = df[\"Producto\"].apply(lambda p: int(p==\"95\"))\n",
        "                X, y = self.process_data(df, scale=False)\n",
        "\n",
        "                if not existing_data:\n",
        "                    X_all = X.copy()\n",
        "                    y_all = y.copy()\n",
        "                    time_all = self.time_series\n",
        "                    existing_data = True\n",
        "                else:\n",
        "                    X_all = np.concatenate((X_all, X))\n",
        "                    y_all = np.concatenate((y_all, y))\n",
        "                    time_all = np.concatenate((time_all, self.time_series))\n",
        "        \n",
        "        X_all = X_all[np.argsort(time_all)].copy()\n",
        "        y_all = y_all[np.argsort(time_all)].copy()\n",
        "                    \n",
        "        model = self.create_model()\n",
        "\n",
        "        rmse_list, mape_list = self.cross_validate_model(model, X_all, y_all)\n",
        "\n",
        "        models = [model.fit(X_all, y_all)]\n",
        "        results = {\n",
        "            'Model': \"general_model\",\n",
        "            'Estación': \"\", \n",
        "            'Producto': \"\",\n",
        "            'Month': \"\", \n",
        "            'RMSE': np.mean(rmse_list), \n",
        "            'MAPE': np.median(mape_list),\n",
        "        }\n",
        "\n",
        "        if verbose:\n",
        "            print(f\"Mean RMSE: {round(np.mean(rmse_list), 4)}\")\n",
        "            print(f\"Median MAPE: {round(np.median(mape_list) * 100, 2)}%\")\n",
        "\n",
        "        if only_scores:\n",
        "            return results, models\n",
        "\n",
        "        return results, models"
      ]
    },
    {
      "cell_type": "code",
      "execution_count": 68,
      "metadata": {},
      "outputs": [
        {
          "name": "stdout",
          "output_type": "stream",
          "text": [
            "Mean RMSE: 0.0389\n",
            "Median MAPE: 10.29%\n"
          ]
        }
      ],
      "source": [
        "gm_base_model = CatBoostRegressor(iterations=500, learning_rate=0.05, depth=5, verbose=False)\n",
        "gm_scorer = GeneralModelScorer(gm_base_model)\n",
        "results_gm, gm_models = gm_scorer.run(data, only_scores=True)\n",
        "total_results = pd.concat([total_results, pd.DataFrame([results_gm])]).reset_index(drop=True)"
      ]
    },
    {
      "cell_type": "code",
      "execution_count": 69,
      "metadata": {},
      "outputs": [],
      "source": [
        "total_results.to_csv(\"data/models_results.csv\", index=False)"
      ]
    },
    {
      "cell_type": "markdown",
      "metadata": {},
      "source": [
        "## Análisis de los resultados"
      ]
    },
    {
      "cell_type": "code",
      "execution_count": 73,
      "metadata": {},
      "outputs": [],
      "source": [
        "total_results = pd.read_csv(\"data/models_results.csv\")\n",
        "agg_results = total_results.groupby(\"Model\").agg({\"RMSE\": \"mean\", \"MAPE\": \"median\"}).reset_index()"
      ]
    },
    {
      "cell_type": "code",
      "execution_count": 74,
      "metadata": {},
      "outputs": [
        {
          "data": {
            "text/html": [
              "<div>\n",
              "<style scoped>\n",
              "    .dataframe tbody tr th:only-of-type {\n",
              "        vertical-align: middle;\n",
              "    }\n",
              "\n",
              "    .dataframe tbody tr th {\n",
              "        vertical-align: top;\n",
              "    }\n",
              "\n",
              "    .dataframe thead th {\n",
              "        text-align: right;\n",
              "    }\n",
              "</style>\n",
              "<table border=\"1\" class=\"dataframe\">\n",
              "  <thead>\n",
              "    <tr style=\"text-align: right;\">\n",
              "      <th></th>\n",
              "      <th>Model</th>\n",
              "      <th>RMSE</th>\n",
              "      <th>MAPE</th>\n",
              "    </tr>\n",
              "  </thead>\n",
              "  <tbody>\n",
              "    <tr>\n",
              "      <th>0</th>\n",
              "      <td>catboost</td>\n",
              "      <td>0.030536</td>\n",
              "      <td>0.075099</td>\n",
              "    </tr>\n",
              "    <tr>\n",
              "      <th>1</th>\n",
              "      <td>chronos</td>\n",
              "      <td>0.046064</td>\n",
              "      <td>0.113544</td>\n",
              "    </tr>\n",
              "    <tr>\n",
              "      <th>2</th>\n",
              "      <td>dummy_mean</td>\n",
              "      <td>0.092497</td>\n",
              "      <td>0.228697</td>\n",
              "    </tr>\n",
              "    <tr>\n",
              "      <th>3</th>\n",
              "      <td>general_model</td>\n",
              "      <td>0.038922</td>\n",
              "      <td>0.102898</td>\n",
              "    </tr>\n",
              "    <tr>\n",
              "      <th>4</th>\n",
              "      <td>lasso</td>\n",
              "      <td>0.035625</td>\n",
              "      <td>0.085041</td>\n",
              "    </tr>\n",
              "    <tr>\n",
              "      <th>5</th>\n",
              "      <td>lstm</td>\n",
              "      <td>0.036508</td>\n",
              "      <td>0.085362</td>\n",
              "    </tr>\n",
              "    <tr>\n",
              "      <th>6</th>\n",
              "      <td>prophet</td>\n",
              "      <td>0.076810</td>\n",
              "      <td>0.176917</td>\n",
              "    </tr>\n",
              "    <tr>\n",
              "      <th>7</th>\n",
              "      <td>random_forest</td>\n",
              "      <td>0.037391</td>\n",
              "      <td>0.088937</td>\n",
              "    </tr>\n",
              "    <tr>\n",
              "      <th>8</th>\n",
              "      <td>sarimax</td>\n",
              "      <td>0.074032</td>\n",
              "      <td>0.166521</td>\n",
              "    </tr>\n",
              "    <tr>\n",
              "      <th>9</th>\n",
              "      <td>xgboost</td>\n",
              "      <td>0.031950</td>\n",
              "      <td>0.075602</td>\n",
              "    </tr>\n",
              "  </tbody>\n",
              "</table>\n",
              "</div>"
            ],
            "text/plain": [
              "           Model      RMSE      MAPE\n",
              "0       catboost  0.030536  0.075099\n",
              "1        chronos  0.046064  0.113544\n",
              "2     dummy_mean  0.092497  0.228697\n",
              "3  general_model  0.038922  0.102898\n",
              "4          lasso  0.035625  0.085041\n",
              "5           lstm  0.036508  0.085362\n",
              "6        prophet  0.076810  0.176917\n",
              "7  random_forest  0.037391  0.088937\n",
              "8        sarimax  0.074032  0.166521\n",
              "9        xgboost  0.031950  0.075602"
            ]
          },
          "execution_count": 74,
          "metadata": {},
          "output_type": "execute_result"
        }
      ],
      "source": [
        "agg_results"
      ]
    },
    {
      "cell_type": "code",
      "execution_count": 156,
      "metadata": {},
      "outputs": [],
      "source": [
        "months = [\"Jan\", \"Feb\", \"Mar\", \"Apr\", \"May\", \"Jun\", \"Jul\", \"Aug\", \"Sep\", \"Oct\", \"Nov\", \"Dec\"]\n",
        "months_results = total_results.dropna().copy()\n",
        "months_results[\"Month_index\"] = months_results[\"Month\"].apply(lambda x: months.index(x))\n",
        "months_results = months_results.sort_values(by=\"Month_index\")\n",
        "months_results = months_results.groupby([\"Model\", \"Month\", \"Month_index\"], sort=False, as_index=False)[[\"RMSE\", \"MAPE\"]].agg({\"RMSE\": \"mean\", \"MAPE\": \"median\"})\n",
        "months_results = months_results.sort_values(by=['Month_index', 'RMSE'])\n",
        "months_results = months_results.groupby('Month', sort=False).head(3)\n",
        "\n",
        "def format_output(group):\n",
        "    top_1 = group.iloc[0]\n",
        "    top_2 = group.iloc[1]\n",
        "    top_3 = group.iloc[2]\n",
        "    \n",
        "    return pd.Series({\n",
        "        'RMSE': top_1['RMSE'],\n",
        "        'Top 1 Modelo': top_1['Model'],\n",
        "        'Top 2 Modelo': top_2['Model'],\n",
        "        'Top 3 Modelo': top_3['Model']\n",
        "    })\n",
        "\n",
        "months_results = months_results.groupby('Month', sort=False).apply(format_output).reset_index()\n",
        "months_results[\"Top 1 Modelo\"] = months_results[\"Top 1 Modelo\"].map({\"catboost\": \"CatBoost\", \"xgboost\": \"XGBoost\", \"lstm\": \"LSTM\"})"
      ]
    },
    {
      "cell_type": "code",
      "execution_count": 157,
      "metadata": {},
      "outputs": [
        {
          "data": {
            "text/html": [
              "<div>\n",
              "<style scoped>\n",
              "    .dataframe tbody tr th:only-of-type {\n",
              "        vertical-align: middle;\n",
              "    }\n",
              "\n",
              "    .dataframe tbody tr th {\n",
              "        vertical-align: top;\n",
              "    }\n",
              "\n",
              "    .dataframe thead th {\n",
              "        text-align: right;\n",
              "    }\n",
              "</style>\n",
              "<table border=\"1\" class=\"dataframe\">\n",
              "  <thead>\n",
              "    <tr style=\"text-align: right;\">\n",
              "      <th></th>\n",
              "      <th>Month</th>\n",
              "      <th>RMSE</th>\n",
              "      <th>Top 1 Modelo</th>\n",
              "      <th>Top 2 Modelo</th>\n",
              "      <th>Top 3 Modelo</th>\n",
              "    </tr>\n",
              "  </thead>\n",
              "  <tbody>\n",
              "    <tr>\n",
              "      <th>0</th>\n",
              "      <td>Jan</td>\n",
              "      <td>0.041033</td>\n",
              "      <td>CatBoost</td>\n",
              "      <td>xgboost</td>\n",
              "      <td>lstm</td>\n",
              "    </tr>\n",
              "    <tr>\n",
              "      <th>1</th>\n",
              "      <td>Feb</td>\n",
              "      <td>0.026705</td>\n",
              "      <td>CatBoost</td>\n",
              "      <td>xgboost</td>\n",
              "      <td>lasso</td>\n",
              "    </tr>\n",
              "    <tr>\n",
              "      <th>2</th>\n",
              "      <td>Mar</td>\n",
              "      <td>0.031088</td>\n",
              "      <td>XGBoost</td>\n",
              "      <td>catboost</td>\n",
              "      <td>random_forest</td>\n",
              "    </tr>\n",
              "    <tr>\n",
              "      <th>3</th>\n",
              "      <td>Apr</td>\n",
              "      <td>0.024708</td>\n",
              "      <td>CatBoost</td>\n",
              "      <td>xgboost</td>\n",
              "      <td>random_forest</td>\n",
              "    </tr>\n",
              "    <tr>\n",
              "      <th>4</th>\n",
              "      <td>May</td>\n",
              "      <td>0.023393</td>\n",
              "      <td>CatBoost</td>\n",
              "      <td>xgboost</td>\n",
              "      <td>random_forest</td>\n",
              "    </tr>\n",
              "    <tr>\n",
              "      <th>5</th>\n",
              "      <td>Jun</td>\n",
              "      <td>0.022733</td>\n",
              "      <td>CatBoost</td>\n",
              "      <td>xgboost</td>\n",
              "      <td>lasso</td>\n",
              "    </tr>\n",
              "    <tr>\n",
              "      <th>6</th>\n",
              "      <td>Jul</td>\n",
              "      <td>0.036395</td>\n",
              "      <td>CatBoost</td>\n",
              "      <td>lstm</td>\n",
              "      <td>xgboost</td>\n",
              "    </tr>\n",
              "    <tr>\n",
              "      <th>7</th>\n",
              "      <td>Aug</td>\n",
              "      <td>0.043350</td>\n",
              "      <td>CatBoost</td>\n",
              "      <td>xgboost</td>\n",
              "      <td>lstm</td>\n",
              "    </tr>\n",
              "    <tr>\n",
              "      <th>8</th>\n",
              "      <td>Sep</td>\n",
              "      <td>0.023252</td>\n",
              "      <td>CatBoost</td>\n",
              "      <td>xgboost</td>\n",
              "      <td>lstm</td>\n",
              "    </tr>\n",
              "    <tr>\n",
              "      <th>9</th>\n",
              "      <td>Oct</td>\n",
              "      <td>0.025749</td>\n",
              "      <td>CatBoost</td>\n",
              "      <td>lstm</td>\n",
              "      <td>lasso</td>\n",
              "    </tr>\n",
              "    <tr>\n",
              "      <th>10</th>\n",
              "      <td>Nov</td>\n",
              "      <td>0.024226</td>\n",
              "      <td>CatBoost</td>\n",
              "      <td>lstm</td>\n",
              "      <td>lasso</td>\n",
              "    </tr>\n",
              "    <tr>\n",
              "      <th>11</th>\n",
              "      <td>Dec</td>\n",
              "      <td>0.042754</td>\n",
              "      <td>LSTM</td>\n",
              "      <td>catboost</td>\n",
              "      <td>xgboost</td>\n",
              "    </tr>\n",
              "  </tbody>\n",
              "</table>\n",
              "</div>"
            ],
            "text/plain": [
              "   Month      RMSE Top 1 Modelo Top 2 Modelo   Top 3 Modelo\n",
              "0    Jan  0.041033     CatBoost      xgboost           lstm\n",
              "1    Feb  0.026705     CatBoost      xgboost          lasso\n",
              "2    Mar  0.031088      XGBoost     catboost  random_forest\n",
              "3    Apr  0.024708     CatBoost      xgboost  random_forest\n",
              "4    May  0.023393     CatBoost      xgboost  random_forest\n",
              "5    Jun  0.022733     CatBoost      xgboost          lasso\n",
              "6    Jul  0.036395     CatBoost         lstm        xgboost\n",
              "7    Aug  0.043350     CatBoost      xgboost           lstm\n",
              "8    Sep  0.023252     CatBoost      xgboost           lstm\n",
              "9    Oct  0.025749     CatBoost         lstm          lasso\n",
              "10   Nov  0.024226     CatBoost         lstm          lasso\n",
              "11   Dec  0.042754         LSTM     catboost        xgboost"
            ]
          },
          "execution_count": 157,
          "metadata": {},
          "output_type": "execute_result"
        }
      ],
      "source": [
        "months_results"
      ]
    },
    {
      "cell_type": "code",
      "execution_count": 158,
      "metadata": {},
      "outputs": [
        {
          "data": {
            "image/png": "[encoded data removed]",
            "text/plain": [
              "<Figure size 1000x400 with 1 Axes>"
            ]
          },
          "metadata": {},
          "output_type": "display_data"
        }
      ],
      "source": [
        "palette = sns.color_palette(\"mako\", len(months_results['Top 1 Modelo'].unique()))\n",
        "plt.figure(figsize=(10, 4))\n",
        "sns.barplot(data=months_results, x='Month', y='RMSE', hue='Top 1 Modelo', dodge=False, palette=palette, linewidth=1.5, edgecolor='black')\n",
        "\n",
        "plt.xlabel('Mes')\n",
        "plt.ylabel('RMSE')\n",
        "plt.title('Menor RMSE obtenido por mes')\n",
        "plt.legend(title='Modelo', bbox_to_anchor=(1.01, 1), loc='upper left')\n",
        "plt.show()"
      ]
    },
    {
      "cell_type": "markdown",
      "metadata": {},
      "source": [
        "## Interpretación de los modelos"
      ]
    },
    {
      "cell_type": "code",
      "execution_count": 162,
      "metadata": {},
      "outputs": [
        {
          "data": {
            "image/png": "[encoded data removed]",
            "text/plain": [
              "<Figure size 1000x600 with 1 Axes>"
            ]
          },
          "metadata": {},
          "output_type": "display_data"
        }
      ],
      "source": [
        "coefficients_array = np.array([model.coef_ for model in lasso_models])\n",
        "\n",
        "linear_model_coef = pd.DataFrame({\n",
        "    'variables': exogenous_vars,\n",
        "    'coefficients': np.mean(coefficients_array, axis=0),\n",
        "})\n",
        "\n",
        "linear_model_coef = linear_model_coef.sort_values(by=\"coefficients\")\n",
        "\n",
        "plt.figure(figsize=(10, 6))\n",
        "sns.barplot(x='variables', y='coefficients', data=linear_model_coef, palette='viridis')\n",
        "plt.title('Coeficientes del Modelo LASSO')\n",
        "plt.xlabel('Variables')\n",
        "plt.ylabel('Coeficientes')\n",
        "plt.xticks(rotation=90)\n",
        "plt.show()"
      ]
    },
    {
      "cell_type": "code",
      "execution_count": 173,
      "metadata": {},
      "outputs": [
        {
          "data": {
            "image/png": "[encoded data removed]",
            "text/plain": [
              "<Figure size 1000x600 with 1 Axes>"
            ]
          },
          "metadata": {},
          "output_type": "display_data"
        }
      ],
      "source": [
        "fimportances_array = np.array([model.feature_importances_ for model in xgb_models])\n",
        "\n",
        "xgb_model_coef = pd.DataFrame({\n",
        "    'variables': exogenous_vars,\n",
        "    'coefficients': np.mean(fimportances_array, axis=0),\n",
        "})\n",
        "\n",
        "xgb_model_coef = xgb_model_coef.sort_values(by=\"coefficients\")\n",
        "\n",
        "plt.figure(figsize=(10, 6))\n",
        "sns.barplot(x='variables', y='coefficients', data=xgb_model_coef, palette='viridis')\n",
        "plt.title('Feature importances del Modelo XGBoost')\n",
        "plt.xlabel('Variables')\n",
        "plt.ylabel('Feature importances')\n",
        "plt.xticks(rotation=90)\n",
        "plt.show()"
      ]
    },
    {
      "cell_type": "code",
      "execution_count": 174,
      "metadata": {},
      "outputs": [
        {
          "data": {
            "image/png": "[encoded data removed]",
            "text/plain": [
              "<Figure size 1000x600 with 1 Axes>"
            ]
          },
          "metadata": {},
          "output_type": "display_data"
        }
      ],
      "source": [
        "fimportances_array = np.array([model.feature_importances_ for model in catb_models])\n",
        "\n",
        "catb_model_coef = pd.DataFrame({\n",
        "    'variables': exogenous_vars,\n",
        "    'coefficients': np.mean(fimportances_array, axis=0),\n",
        "})\n",
        "\n",
        "catb_model_coef = catb_model_coef.sort_values(by=\"coefficients\")\n",
        "\n",
        "plt.figure(figsize=(10, 6))\n",
        "sns.barplot(x='variables', y='coefficients', data=catb_model_coef, palette='viridis')\n",
        "plt.title('Feature importances del Modelo CatBoost')\n",
        "plt.xlabel('Variables')\n",
        "plt.ylabel('Feature importances')\n",
        "plt.xticks(rotation=90)\n",
        "plt.show()"
      ]
    },
    {
      "cell_type": "markdown",
      "metadata": {},
      "source": [
        "## Grid Search"
      ]
    },
    {
      "cell_type": "code",
      "execution_count": 181,
      "metadata": {},
      "outputs": [],
      "source": [
        "def scorer_optimizer(model_scorer, params_dict, data, n_trials=10):\n",
        "\n",
        "    def objective(trial):\n",
        "\n",
        "        instance_params = {}\n",
        "\n",
        "        for param in params_dict:\n",
        "            if param[\"type\"] == \"int\":\n",
        "                instance_params[param[\"name\"]] = trial.suggest_int(\n",
        "                    param[\"name\"], param[\"value\"][0], param[\"value\"][1]\n",
        "                )\n",
        "            elif param[\"type\"] == \"float\":\n",
        "                instance_params[param[\"name\"]] = trial.suggest_float(\n",
        "                    param[\"name\"], param[\"value\"][0], param[\"value\"][1]\n",
        "                )\n",
        "            elif param[\"type\"] == \"set\":\n",
        "                instance_params[param[\"name\"]] = trial.suggest_categorical(\n",
        "                    param[\"name\"], param[\"value\"]\n",
        "                )\n",
        "        \n",
        "        scorer = model_scorer(**instance_params)\n",
        "        \n",
        "        rmse = scorer.run(data, verbose=False, show_progress=False)[0][\"RMSE\"].mean()\n",
        "        \n",
        "        return rmse\n",
        "\n",
        "    study = optuna.create_study(direction='minimize')\n",
        "    study.optimize(objective, n_trials=n_trials, show_progress_bar=True)\n",
        "\n",
        "    print(\"Best hyperparameters: \", study.best_params)\n",
        "    print(\"Best accuracy: \", study.best_value)\n",
        "\n",
        "    return study.best_params\n",
        "\n",
        "with open(\"grid_search.yaml\", 'r') as stream:\n",
        "    model_params = yaml.safe_load(stream)\n"
      ]
    },
    {
      "cell_type": "code",
      "execution_count": null,
      "metadata": {},
      "outputs": [],
      "source": [
        "lasso_best_params = scorer_optimizer(LassoScorer, model_params[\"lasso\"], data, n_trials=100)"
      ]
    },
    {
      "cell_type": "code",
      "execution_count": null,
      "metadata": {},
      "outputs": [],
      "source": [
        "xgboost_best_params = scorer_optimizer(XGBoostScorer, model_params[\"xgboost\"], data, n_trials=10)"
      ]
    },
    {
      "cell_type": "code",
      "execution_count": null,
      "metadata": {},
      "outputs": [],
      "source": [
        "catboost_best_params = scorer_optimizer(CatBoostScorer, model_params[\"catboost\"], data, n_trials=10)"
      ]
    },
    {
      "cell_type": "code",
      "execution_count": 185,
      "metadata": {},
      "outputs": [
        {
          "name": "stderr",
          "output_type": "stream",
          "text": [
            "Running: 100%|██████████| 24/24 [00:00<00:00, 24.20it/s]"
          ]
        },
        {
          "name": "stdout",
          "output_type": "stream",
          "text": [
            "Mean RMSE: 0.0354\n",
            "Median MAPE: 8.39%\n"
          ]
        },
        {
          "name": "stderr",
          "output_type": "stream",
          "text": [
            "\n"
          ]
        }
      ],
      "source": [
        "lasso_best_params = {'alpha': 0.00090813661190240582}\n",
        "lasso_scorer = LassoScorer(**lasso_best_params)\n",
        "results_lasso, _ = lasso_scorer.run(data)"
      ]
    },
    {
      "cell_type": "code",
      "execution_count": 187,
      "metadata": {},
      "outputs": [
        {
          "name": "stderr",
          "output_type": "stream",
          "text": [
            "Running: 100%|██████████| 24/24 [29:03<00:00, 72.64s/it] "
          ]
        },
        {
          "name": "stdout",
          "output_type": "stream",
          "text": [
            "Mean RMSE: 0.0299\n",
            "Median MAPE: 7.21%\n"
          ]
        },
        {
          "name": "stderr",
          "output_type": "stream",
          "text": [
            "\n"
          ]
        }
      ],
      "source": [
        "xgb_best_params = {'n_estimators': 817, 'learning_rate': 0.03375812715450361, 'max_depth': 5, 'min_child_weight': 6.953999813625597, 'subsample': 0.5006734727592597}\n",
        "xgb_model  = XGBoostScorer(**xgb_best_params)\n",
        "results_xgb, _ = xgb_model.run(data)"
      ]
    },
    {
      "cell_type": "code",
      "execution_count": 188,
      "metadata": {},
      "outputs": [
        {
          "name": "stderr",
          "output_type": "stream",
          "text": [
            "Running: 100%|██████████| 24/24 [02:39<00:00,  6.65s/it]"
          ]
        },
        {
          "name": "stdout",
          "output_type": "stream",
          "text": [
            "Mean RMSE: 0.0302\n",
            "Median MAPE: 7.17%\n"
          ]
        },
        {
          "name": "stderr",
          "output_type": "stream",
          "text": [
            "\n"
          ]
        }
      ],
      "source": [
        "catb_best_params = {'learning_rate': 0.05066787591097517, 'depth': 4, 'l2_leaf_reg': 3.102140460753001, 'iterations': 547}\n",
        "catb_model = CatBoostScorer(**catb_best_params)\n",
        "results_catb, _ = catb_model.run(data)"
      ]
    }
  ],
  "metadata": {
    "accelerator": "GPU",
    "colab": {
      "gpuType": "T4",
      "provenance": []
    },
    "kernelspec": {
      "display_name": "Python 3",
      "name": "python3"
    },
    "language_info": {
      "codemirror_mode": {
        "name": "ipython",
        "version": 3
      },
      "file_extension": ".py",
      "mimetype": "text/x-python",
      "name": "python",
      "nbconvert_exporter": "python",
      "pygments_lexer": "ipython3",
      "version": "3.11.5"
    }
  },
  "nbformat": 4,
  "nbformat_minor": 0
}
